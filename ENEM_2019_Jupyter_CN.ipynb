{
 "cells": [
  {
   "cell_type": "markdown",
   "metadata": {},
   "source": [
    "# importando bibliotecas"
   ]
  },
  {
   "cell_type": "code",
   "execution_count": 1,
   "metadata": {},
   "outputs": [],
   "source": [
    "import pandas as pd"
   ]
  },
  {
   "cell_type": "code",
   "execution_count": 2,
   "metadata": {},
   "outputs": [],
   "source": [
    "import matplotlib as plt"
   ]
  },
  {
   "cell_type": "code",
   "execution_count": 3,
   "metadata": {},
   "outputs": [],
   "source": [
    "import numpy as np"
   ]
  },
  {
   "cell_type": "markdown",
   "metadata": {},
   "source": [
    "# importando microdados do ENEM 2019"
   ]
  },
  {
   "cell_type": "code",
   "execution_count": 4,
   "metadata": {},
   "outputs": [],
   "source": [
    "dadosEnem = pd.read_csv(\"H:\\D_ENEM\\DADOS\\MICRODADOS_ENEM_2019.csv\", sep=\";\", encoding='ISO-8859-1') # importando arquivo csv com os dados"
   ]
  },
  {
   "cell_type": "code",
   "execution_count": 5,
   "metadata": {},
   "outputs": [],
   "source": [
    "selecao = dadosEnem.filter(['IN_TREINEIRO','CO_ESCOLA','CO_PROVA_CN','NU_NOTA_CN','TX_RESPOSTAS_CN','TX_GABARITO_CN']) # selecionando as colunas que importam"
   ]
  },
  {
   "cell_type": "markdown",
   "metadata": {},
   "source": [
    "# Selecionando a escola"
   ]
  },
  {
   "cell_type": "code",
   "execution_count": 6,
   "metadata": {},
   "outputs": [],
   "source": [
    "codigoDaEscola = 0"
   ]
  },
  {
   "cell_type": "code",
   "execution_count": 7,
   "metadata": {},
   "outputs": [
    {
     "name": "stdout",
     "output_type": "stream",
     "text": [
      "Digite o código INEP escola : 43183034\n"
     ]
    }
   ],
   "source": [
    "while (codigoDaEscola == 0):\n",
    "    codigoDaEscola = input ('Digite o código INEP escola : ')\n",
    "    codigoDaEscola = int(codigoDaEscola)"
   ]
  },
  {
   "cell_type": "code",
   "execution_count": 8,
   "metadata": {},
   "outputs": [
    {
     "data": {
      "text/html": [
       "<div>\n",
       "<style scoped>\n",
       "    .dataframe tbody tr th:only-of-type {\n",
       "        vertical-align: middle;\n",
       "    }\n",
       "\n",
       "    .dataframe tbody tr th {\n",
       "        vertical-align: top;\n",
       "    }\n",
       "\n",
       "    .dataframe thead th {\n",
       "        text-align: right;\n",
       "    }\n",
       "</style>\n",
       "<table border=\"1\" class=\"dataframe\">\n",
       "  <thead>\n",
       "    <tr style=\"text-align: right;\">\n",
       "      <th></th>\n",
       "      <th>IN_TREINEIRO</th>\n",
       "      <th>CO_ESCOLA</th>\n",
       "      <th>CO_PROVA_CN</th>\n",
       "      <th>NU_NOTA_CN</th>\n",
       "      <th>TX_RESPOSTAS_CN</th>\n",
       "      <th>TX_GABARITO_CN</th>\n",
       "    </tr>\n",
       "  </thead>\n",
       "  <tbody>\n",
       "    <tr>\n",
       "      <th>3269083</th>\n",
       "      <td>0.0</td>\n",
       "      <td>43183034.0</td>\n",
       "      <td>506.0</td>\n",
       "      <td>569.5</td>\n",
       "      <td>EEDDCCAEEDBBCECDAEBABADDCCBBEADBBCADCBCECCECB</td>\n",
       "      <td>DEADBAAAEBEECEBCBCBCBDADAEABCEDDDDADCBEECACBC</td>\n",
       "    </tr>\n",
       "    <tr>\n",
       "      <th>3897645</th>\n",
       "      <td>0.0</td>\n",
       "      <td>43183034.0</td>\n",
       "      <td>503.0</td>\n",
       "      <td>473.8</td>\n",
       "      <td>DECADECDABDEBDADBBACBAEEABDEABEBBCABAECAEACDC</td>\n",
       "      <td>AAECACDEADCBCDDDBCBDADAEABCEBABEEBCBEECEBDADC</td>\n",
       "    </tr>\n",
       "    <tr>\n",
       "      <th>4795626</th>\n",
       "      <td>0.0</td>\n",
       "      <td>43183034.0</td>\n",
       "      <td>503.0</td>\n",
       "      <td>556.0</td>\n",
       "      <td>ECECBBDEDACDBDBABDCABCABBDCEDABBECCCDCEDBBBDA</td>\n",
       "      <td>AAECACDEADCBCDDDBCBDADAEABCEBABEEBCBEECEBDADC</td>\n",
       "    </tr>\n",
       "  </tbody>\n",
       "</table>\n",
       "</div>"
      ],
      "text/plain": [
       "         IN_TREINEIRO   CO_ESCOLA  CO_PROVA_CN  NU_NOTA_CN  \\\n",
       "3269083           0.0  43183034.0        506.0       569.5   \n",
       "3897645           0.0  43183034.0        503.0       473.8   \n",
       "4795626           0.0  43183034.0        503.0       556.0   \n",
       "\n",
       "                                       TX_RESPOSTAS_CN  \\\n",
       "3269083  EEDDCCAEEDBBCECDAEBABADDCCBBEADBBCADCBCECCECB   \n",
       "3897645  DECADECDABDEBDADBBACBAEEABDEABEBBCABAECAEACDC   \n",
       "4795626  ECECBBDEDACDBDBABDCABCABBDCEDABBECCCDCEDBBBDA   \n",
       "\n",
       "                                        TX_GABARITO_CN  \n",
       "3269083  DEADBAAAEBEECEBCBCBCBDADAEABCEDDDDADCBEECACBC  \n",
       "3897645  AAECACDEADCBCDDDBCBDADAEABCEBABEEBCBEECEBDADC  \n",
       "4795626  AAECACDEADCBCDDDBCBDADAEABCEBABEEBCBEECEBDADC  "
      ]
     },
     "execution_count": 8,
     "metadata": {},
     "output_type": "execute_result"
    }
   ],
   "source": [
    "alunosCSPtotal = selecao.where(selecao.CO_ESCOLA == codigoDaEscola) #selecionando o Colégio Sinodal Progresso\n",
    "alunosCSP = alunosCSPtotal.where(alunosCSPtotal.IN_TREINEIRO == 0) #retira os alunos treineiros\n",
    "alunosCSP.dropna()"
   ]
  },
  {
   "cell_type": "markdown",
   "metadata": {},
   "source": [
    "# separando os cadernos (Azul, Amarelo, Cinza e Rosa)"
   ]
  },
  {
   "cell_type": "code",
   "execution_count": 9,
   "metadata": {},
   "outputs": [],
   "source": [
    "cadernoAzul = alunosCSP.where(alunosCSP.CO_PROVA_CN == 503) #filtrar por caderno azul\n",
    "cadernoAmarelo = alunosCSP.where(alunosCSP.CO_PROVA_CN == 504) #filtrar por caderno amarelo\n",
    "cadernoCinza = alunosCSP.where(alunosCSP.CO_PROVA_CN == 505) #filtrar por caderno cinza\n",
    "cadernoRosa = alunosCSP.where(alunosCSP.CO_PROVA_CN == 506) #filtrar por caderno Rosa"
   ]
  },
  {
   "cell_type": "code",
   "execution_count": 10,
   "metadata": {},
   "outputs": [],
   "source": [
    "cadernoAzul.dropna(inplace = True)\n",
    "cadernoAmarelo.dropna(inplace = True)\n",
    "cadernoCinza.dropna(inplace = True)\n",
    "cadernoRosa.dropna(inplace = True)"
   ]
  },
  {
   "cell_type": "markdown",
   "metadata": {},
   "source": [
    "# selecionando as respostas dos candidatos nos cadernos"
   ]
  },
  {
   "cell_type": "code",
   "execution_count": 11,
   "metadata": {},
   "outputs": [],
   "source": [
    "respostasAzul = cadernoAzul.filter(['TX_RESPOSTAS_CN']).values\n",
    "respostasAmarelo = cadernoAmarelo.filter(['TX_RESPOSTAS_CN']).values\n",
    "respostasCinza = cadernoCinza.filter(['TX_RESPOSTAS_CN']).values\n",
    "respostasRosa = cadernoRosa.filter(['TX_RESPOSTAS_CN']).values"
   ]
  },
  {
   "cell_type": "markdown",
   "metadata": {},
   "source": [
    "# contadores de alunos por cor de prova"
   ]
  },
  {
   "cell_type": "code",
   "execution_count": 12,
   "metadata": {},
   "outputs": [],
   "source": [
    "contadorAzul =  len(respostasAzul)\n",
    "contadorAmarelo = len(respostasAmarelo)\n",
    "contadorCinza =  len(respostasCinza)\n",
    "contadorRosa =  len(respostasRosa)\n",
    "totalDeAlunos = contadorAzul + contadorAmarelo + contadorCinza + contadorRosa"
   ]
  },
  {
   "cell_type": "markdown",
   "metadata": {},
   "source": [
    "# selecionando os gabaritos dos cadernos"
   ]
  },
  {
   "cell_type": "code",
   "execution_count": 13,
   "metadata": {},
   "outputs": [],
   "source": [
    "gabaritoAzul = cadernoAzul.filter(['TX_GABARITO_CN']).values\n",
    "gabaritoAmarelo = cadernoAmarelo.filter(['TX_GABARITO_CN']).values\n",
    "gabaritoCinza = cadernoCinza.filter(['TX_GABARITO_CN']).values\n",
    "gabaritoRosa = cadernoRosa.filter(['TX_GABARITO_CN']).values"
   ]
  },
  {
   "cell_type": "markdown",
   "metadata": {},
   "source": [
    "# convertendo os gabaritos de lista para String"
   ]
  },
  {
   "cell_type": "code",
   "execution_count": 16,
   "metadata": {},
   "outputs": [],
   "source": [
    "strGabaritoAzul = str(list(gabaritoAzul[0])).strip('[]')\n",
    "#strGabaritoAmarelo = str(list(gabaritoAmarelo[0])).strip('[]')\n",
    "#strGabaritoCinza = str(list(gabaritoCinza[0])).strip('[]')\n",
    "strGabaritoRosa = str(list(gabaritoRosa[0])).strip('[]')"
   ]
  },
  {
   "cell_type": "markdown",
   "metadata": {},
   "source": [
    "# iniciando contadores dos acertos"
   ]
  },
  {
   "cell_type": "code",
   "execution_count": 17,
   "metadata": {},
   "outputs": [],
   "source": [
    "contadorFisica = 0\n",
    "contadorFisicaAmarelo = 0\n",
    "contadorFisicaAzul = 0\n",
    "contadorFisicaCinza = 0\n",
    "contadorFisicaRosa = 0"
   ]
  },
  {
   "cell_type": "code",
   "execution_count": 18,
   "metadata": {},
   "outputs": [],
   "source": [
    "contadorQuimica = 0\n",
    "contadorQuimicaAmarelo = 0\n",
    "contadorQuimicaAzul = 0\n",
    "contadorQuimicaCinza = 0\n",
    "contadorQuimicaRosa = 0"
   ]
  },
  {
   "cell_type": "code",
   "execution_count": 19,
   "metadata": {},
   "outputs": [],
   "source": [
    "contadorBiologia = 0\n",
    "contadorBiologiaAmarelo = 0\n",
    "contadorBiologiaAzul = 0\n",
    "contadorBiologiaCinza = 0\n",
    "contadorBiologiaRosa = 0"
   ]
  },
  {
   "cell_type": "code",
   "execution_count": 20,
   "metadata": {},
   "outputs": [],
   "source": [
    "contadorErradas = 0"
   ]
  },
  {
   "cell_type": "markdown",
   "metadata": {},
   "source": [
    "# Testagem da prova amarela"
   ]
  },
  {
   "cell_type": "code",
   "execution_count": 65,
   "metadata": {},
   "outputs": [],
   "source": [
    "for g in range (0,contadorAmarelo):\n",
    "    candidato = str(list(respostasAmarelo[g])).strip('[]')\n",
    "    for i in range (1,46):\n",
    "        if candidato[i] == strGabaritoAmarelo[i]:\n",
    "            if (i == 1) or (i == 5) or (i == 7) or (i == 10) or (i == 13) or (i == 17) or (i == 19) or (i == 23): \n",
    "                contadorFisicaAmarelo += 1\n",
    "            if (i == 27) or (i == 30) or (i == 32) or (i == 34) or (i == 39) or (i == 42) or (i == 45):\n",
    "                contadorFisicaAmarelo += 1\n",
    "            if (i == 3) or (i == 4) or (i == 8) or (i == 11) or (i == 14) or (i == 18) or (i == 24): \n",
    "                contadorQuimicaAmarelo += 1\n",
    "            if (i == 26) or (i == 29) or (i == 33) or (i == 35) or (i == 37) or (i == 41) or (i == 43) or (i == 44):\n",
    "                contadorQuimicaAmarelo += 1\n",
    "            if (i == 6) or (i == 9) or (i == 12) or (i == 15) or (i == 16) or (i == 20) or (i == 21) or (i == 22):\n",
    "                contadorBiologiaAmarelo += 1\n",
    "            if (i == 2) or (i == 25) or (i == 28) or (i == 31) or (i == 36) or (i == 38) or (i == 40):\n",
    "                contadorBiologiaAmarelo += 1\n",
    "        else:\n",
    "            contadorErradas += 1\n",
    "    "
   ]
  },
  {
   "cell_type": "markdown",
   "metadata": {},
   "source": [
    "# Testagem da prova azul"
   ]
  },
  {
   "cell_type": "code",
   "execution_count": 21,
   "metadata": {},
   "outputs": [],
   "source": [
    "for g in range (0,contadorAzul):\n",
    "    candidato = str(list(respostasAzul[g])).strip('[]')\n",
    "    for i in range (1,46):\n",
    "        if candidato[i] == strGabaritoAzul[i]:\n",
    "            if (i == 2) or (i == 4) or (i == 8) or (i == 12) or (i == 16) or (i == 19) or (i == 21) or (i == 23): \n",
    "                contadorFisicaAzul += 1\n",
    "            if (i == 27) or (i == 29) or (i == 31) or (i == 36) or (i == 41) or (i == 42) or (i == 45):\n",
    "                contadorFisicaAzul += 1\n",
    "            if (i == 1) or (i == 5) or (i == 9) or (i == 13) or (i == 15) or (i == 18) or (i == 22): \n",
    "                contadorQuimicaAzul += 1\n",
    "            if (i == 28) or (i == 30) or (i == 32) or (i == 34) or (i == 35) or (i == 38) or (i == 39) or (i == 44):\n",
    "                contadorQuimicaAzul += 1\n",
    "            if (i == 3) or (i == 6) or (i == 7) or (i == 10) or (i == 11) or (i == 14) or (i == 17) or (i == 20):\n",
    "                contadorBiologiaAzul += 1\n",
    "            if (i == 24) or (i == 25) or (i == 26) or (i == 33) or (i == 37) or (i == 40) or (i == 43):\n",
    "                contadorBiologiaAzul += 1\n",
    "        else:\n",
    "            contadorErradas += 1"
   ]
  },
  {
   "cell_type": "markdown",
   "metadata": {},
   "source": [
    "# Testagem da prova cinza"
   ]
  },
  {
   "cell_type": "code",
   "execution_count": 67,
   "metadata": {},
   "outputs": [],
   "source": [
    "for g in range (0,contadorCinza):\n",
    "    candidato = str(list(respostasCinza[g])).strip('[]')\n",
    "    for i in range (1,46):\n",
    "        if candidato[i] == strGabaritoCinza[i]:\n",
    "            if (i == 1) or (i == 4) or (i == 7) or (i == 10) or (i == 13) or (i == 16) or (i == 19) or (i == 22): \n",
    "                contadorFisicaCinza += 1\n",
    "            if (i == 26) or (i == 28) or (i == 32) or (i == 34) or (i == 36) or (i == 40) or (i == 44):\n",
    "                contadorFisicaCinza += 1\n",
    "            if (i == 3) or (i == 5) or (i == 6) or (i == 8) or (i == 11) or (i == 15) or (i == 17): \n",
    "                contadorQuimicaCinza += 1\n",
    "            if (i == 20) or (i == 23) or (i == 25) or (i == 29) or (i == 31) or (i == 35) or (i == 41) or (i == 43):\n",
    "                contadorQuimicaCinza += 1\n",
    "            if (i == 2) or (i == 9) or (i ==12) or (i == 14) or (i == 18) or (i == 21) or (i == 24) or (i == 27):\n",
    "                contadorBiologiaCinza += 1\n",
    "            if (i == 30) or (i == 33) or (i == 37) or (i == 38) or (i == 39) or (i == 42) or (i == 45):\n",
    "                contadorBiologiaCinza += 1\n",
    "        else:\n",
    "            contadorErradas += 1"
   ]
  },
  {
   "cell_type": "markdown",
   "metadata": {},
   "source": [
    "# Testagem da prova rosa"
   ]
  },
  {
   "cell_type": "code",
   "execution_count": 22,
   "metadata": {},
   "outputs": [],
   "source": [
    "for g in range (0,contadorRosa):\n",
    "    candidato = str(list(respostasRosa[g])).strip('[]')\n",
    "    for i in range (1,46):\n",
    "        if candidato[i] == strGabaritoRosa[i]:\n",
    "            if (i == 2) or (i == 5) or (i == 8) or (i == 10) or (i == 15) or (i == 17) or (i == 21) or (i == 23): \n",
    "                contadorFisicaRosa += 1\n",
    "            if (i == 25) or (i == 29) or (i == 33) or (i == 34) or (i == 37) or (i == 38) or (i == 41):\n",
    "                contadorFisicaRosa += 1\n",
    "            if (i == 3) or (i == 6) or (i == 7) or (i == 12) or (i == 13) or (i == 14) or (i == 18): \n",
    "                contadorQuimicaRosa += 1\n",
    "            if (i == 20) or (i == 24) or (i == 30) or (i == 32) or (i == 36) or (i == 39) or (i == 42) or (i == 44):\n",
    "                contadorQuimicaRosa += 1\n",
    "            if (i == 1) or (i == 4) or (i == 9) or (i == 11) or (i == 16) or (i == 19) or (i == 22) or (i == 26):\n",
    "                contadorBiologiaRosa += 1\n",
    "            if (i == 27) or (i == 28) or (i == 31) or (i == 35) or (i == 40) or (i == 43) or (i == 45):\n",
    "                contadorBiologiaRosa += 1\n",
    "        else:\n",
    "            contadorErradas += 1"
   ]
  },
  {
   "cell_type": "code",
   "execution_count": 23,
   "metadata": {},
   "outputs": [],
   "source": [
    "contadorFisica = contadorFisicaAmarelo + contadorFisicaAzul + contadorFisicaCinza + contadorFisicaRosa\n",
    "contadorQuimica = contadorQuimicaAmarelo + contadorQuimicaAzul + contadorQuimicaCinza + contadorQuimicaRosa\n",
    "contadorBiologia = contadorBiologiaAmarelo + contadorBiologiaAzul + contadorBiologiaCinza + contadorBiologiaRosa"
   ]
  },
  {
   "cell_type": "markdown",
   "metadata": {},
   "source": [
    "# imprimindo resultados na tela"
   ]
  },
  {
   "cell_type": "code",
   "execution_count": 24,
   "metadata": {},
   "outputs": [
    {
     "name": "stdout",
     "output_type": "stream",
     "text": [
      "                    Número de acertos em cada prova                        \n",
      "---------------------------------------------------------------------------\n",
      "ENEM 2019 --- Ciências da Natureza --- Escola: 43183034   ---   3  alunos\n",
      "---------------------------------------------------------------------------\n",
      "                  Questões      Física           Química         Biologia\n",
      "---------------------------------------------------------------------------\n",
      "Prova Amarela ---   0           0               0               0\n",
      "Prova Azul ------   30           9               9               11\n",
      "Prova Cinza -----   0           0               0               0\n",
      "Prova Rosa ------   15           5               5               7\n",
      "---------------------------------------------------------------------------\n",
      "Total de acertos                 14               14               18\n",
      "---------------------------------------------------------------------------\n",
      "Percentual de acertos           31.11 %          31.11 %          40.0 %\n"
     ]
    }
   ],
   "source": [
    "print(\"                    Número de acertos em cada prova                        \")\n",
    "print(\"---------------------------------------------------------------------------\")\n",
    "print(\"ENEM 2019 --- Ciências da Natureza --- Escola:\",codigoDaEscola,\"  ---  \",totalDeAlunos,\" alunos\")\n",
    "print(\"---------------------------------------------------------------------------\")\n",
    "print(\"                  Questões      Física           Química         Biologia\")\n",
    "print(\"---------------------------------------------------------------------------\")\n",
    "print(\"Prova Amarela ---  \",contadorAmarelo*15,\"         \", contadorFisicaAmarelo, \"             \", contadorQuimicaAmarelo, \"             \", contadorBiologiaAmarelo)\n",
    "print(\"Prova Azul ------  \",contadorAzul*15   ,\"         \", contadorFisicaAzul,    \"             \", contadorQuimicaAzul,    \"             \", contadorBiologiaAzul)\n",
    "print(\"Prova Cinza -----  \",contadorCinza*15  ,\"         \", contadorFisicaCinza,   \"             \", contadorQuimicaCinza,   \"             \", contadorBiologiaCinza)\n",
    "print(\"Prova Rosa ------  \",contadorRosa*15   ,\"         \", contadorFisicaRosa,    \"             \", contadorQuimicaRosa,    \"             \", contadorBiologiaRosa)\n",
    "print(\"---------------------------------------------------------------------------\")\n",
    "print(\"Total de acertos                \", contadorFisica,   \"             \", contadorQuimica,   \"             \", contadorBiologia)\n",
    "print(\"---------------------------------------------------------------------------\")\n",
    "print(\"Percentual de acertos          \", round(100*contadorFisica/(totalDeAlunos*15),2),   \"%         \", round(100*contadorQuimica/(totalDeAlunos*15),2),   \"%         \", round(100*contadorBiologia/(totalDeAlunos*15),2),\"%\")"
   ]
  },
  {
   "cell_type": "code",
   "execution_count": null,
   "metadata": {},
   "outputs": [],
   "source": []
  }
 ],
 "metadata": {
  "kernelspec": {
   "display_name": "Python 3",
   "language": "python",
   "name": "python3"
  },
  "language_info": {
   "codemirror_mode": {
    "name": "ipython",
    "version": 3
   },
   "file_extension": ".py",
   "mimetype": "text/x-python",
   "name": "python",
   "nbconvert_exporter": "python",
   "pygments_lexer": "ipython3",
   "version": "3.9.1"
  }
 },
 "nbformat": 4,
 "nbformat_minor": 4
}
